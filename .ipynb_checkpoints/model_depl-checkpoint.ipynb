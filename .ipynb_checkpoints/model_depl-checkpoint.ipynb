{
 "cells": [
  {
   "cell_type": "code",
   "execution_count": null,
   "id": "6b83e59d-8554-4aaf-9487-cbadb6fe7ddb",
   "metadata": {},
   "outputs": [],
   "source": [
    "import streamlit as st\n",
    "import pickle\n",
    "import pandas as pd\n",
    "import numpy as np\n",
    "\n",
    "# Load the saved model and scaler\n",
    "with open('model.pkl', 'rb') as f:\n",
    "    model = pickle.load(f)\n",
    "\n",
    "with open('scaler.pkl', 'rb') as f:\n",
    "    scaler = pickle.load(f)\n",
    "\n",
    "# Set up the Streamlit app\n",
    "st.title('Titanic Survival Prediction')\n",
    "\n",
    "# Create input fields for user data\n",
    "sex = st.selectbox('Sex', ['Male', 'Female'])\n",
    "pclass = st.selectbox('Passenger Class', [1, 2, 3])\n",
    "fare = st.number_input('Fare', min_value=0.0, max_value=500.0, value=32.2)\n",
    "embarked = st.selectbox('Port of Embarkation', ['Queenstown', 'Southampton', 'Other'])\n",
    "family_size = st.number_input('Family Size', min_value=0, max_value=10, value=0)\n",
    "\n",
    "# Create a dataframe from user inputs\n",
    "input_data = pd.DataFrame({\n",
    "    'Sex': [1 if sex == 'Male' else 0],\n",
    "    'Pclass': [pclass],\n",
    "    'Fare': [fare],\n",
    "    'Embarked_Q': [1 if embarked == 'Queenstown' else 0],\n",
    "    'Embarked_S': [1 if embarked == 'Southampton' else 0],\n",
    "    'FamilySize': [family_size]\n",
    "})\n",
    "\n",
    "# Scale the input data\n",
    "input_scaled = scaler.transform(input_data)\n",
    "\n",
    "# Make prediction\n",
    "if st.button('Predict'):\n",
    "    prediction = model.predict(input_scaled)\n",
    "    probability = model.predict_proba(input_scaled)[0][1]\n",
    "    \n",
    "    st.subheader('Prediction Result')\n",
    "    if prediction[0] == 1:\n",
    "        st.write('The passenger would likely survive.')\n",
    "    else:\n",
    "        st.write('The passenger would likely not survive.')\n",
    "    \n",
    "    st.write(f'Survival probability: {probability:.2f}')\n",
    "\n",
    "st.sidebar.header('About')\n",
    "st.sidebar.info('This app predicts the survival of Titanic passengers based on input features.')\n"
   ]
  }
 ],
 "metadata": {
  "kernelspec": {
   "display_name": "Python [conda env:base] *",
   "language": "python",
   "name": "conda-base-py"
  },
  "language_info": {
   "codemirror_mode": {
    "name": "ipython",
    "version": 3
   },
   "file_extension": ".py",
   "mimetype": "text/x-python",
   "name": "python",
   "nbconvert_exporter": "python",
   "pygments_lexer": "ipython3",
   "version": "3.12.3"
  }
 },
 "nbformat": 4,
 "nbformat_minor": 5
}
